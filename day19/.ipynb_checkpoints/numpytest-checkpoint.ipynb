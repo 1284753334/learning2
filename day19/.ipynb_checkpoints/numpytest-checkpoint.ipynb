{
 "cells": [
  {
   "cell_type": "code",
   "execution_count": 1,
   "metadata": {},
   "outputs": [],
   "source": [
    "import numpy as np"
   ]
  },
  {
   "cell_type": "markdown",
   "metadata": {},
   "source": [
    "# 加载CSV数据 -- np. loadtxt()方法"
   ]
  },
  {
   "cell_type": "code",
   "execution_count": 2,
   "metadata": {},
   "outputs": [
    {
     "name": "stdout",
     "output_type": "stream",
     "text": [
      "<class 'numpy.ndarray'>\n",
      "[['matchup' 'adjpoll_clinton' 'adjpoll_trump' 'adjpoll_johnson']\n",
      " ['\"Clinton vs. Trump vs. Johnson\"' '42.6414' '40.86509' '5.675099']\n",
      " ['\"Clinton vs. Trump vs. Johnson\"' '43.29659' '44.72984' '3.401513']\n",
      " ...\n",
      " ['\"Clinton vs. Trump vs. Johnson\"' '45.9713' '39.97518' '']\n",
      " ['\"Clinton vs. Trump vs. Johnson\"' '45.2939' '46.66175' '1.596946']\n",
      " ['\"Clinton vs. Trump vs. Johnson\"' '31.62721' '44.65947' '']]\n"
     ]
    }
   ],
   "source": [
    "filename = \"./data/presidential_polls.csv\"\n",
    "data_arr = np.loadtxt(filename, #需要打开的文件名\n",
    "    delimiter = \",\" ,#文件的分隔符\n",
    "    #skiprows = 1， #可以选择调过开头指定的行\n",
    "    dtype=str, #数据是按编码后的字符串格式存储\n",
    "    usecols = (3,17,18,19),#表示读取文件里的列的索引位置\n",
    "    )\n",
    "print(type(data_arr))\n",
    "print(data_arr)"
   ]
  },
  {
   "cell_type": "markdown",
   "metadata": {},
   "source": [
    "# 加载CSV数据 -- np. genfromtxt()方法"
   ]
  },
  {
   "cell_type": "code",
   "execution_count": 4,
   "metadata": {},
   "outputs": [
    {
     "name": "stdout",
     "output_type": "stream",
     "text": [
      "[['matchup' 'adjpoll_clinton' 'adjpoll_trump' 'adjpoll_johnson']\n",
      " ['\"Clinton vs. Trump vs. Johnson\"' '42.6414' '40.86509' '5.675099']\n",
      " ['\"Clinton vs. Trump vs. Johnson\"' '43.29659' '44.72984' '3.401513']\n",
      " ...\n",
      " ['\"Clinton vs. Trump vs. Johnson\"' '45.9713' '39.97518' '']\n",
      " ['\"Clinton vs. Trump vs. Johnson\"' '45.2939' '46.66175' '1.596946']\n",
      " ['\"Clinton vs. Trump vs. Johnson\"' '31.62721' '44.65947' '']]\n"
     ]
    }
   ],
   "source": [
    "filename = \"./data/presidential_polls.csv\"\n",
    "data_arr = np.genfromtxt(filename, #需要打开的文件名\n",
    "    delimiter = \",\" ,#文件的分隔符\n",
    "    dtype=str, #数据按字符串格式存储，不进行bytes编码\n",
    "    usecols = (3,17,18,19),#表示读取文件里列索引位置\n",
    "    )\n",
    "print(data_arr)\n"
   ]
  },
  {
   "cell_type": "markdown",
   "metadata": {},
   "source": [
    "# ndarray属性"
   ]
  },
  {
   "cell_type": "code",
   "execution_count": 3,
   "metadata": {},
   "outputs": [
    {
     "name": "stdout",
     "output_type": "stream",
     "text": [
      "维度个数： 2\n",
      "维度大小： (10237, 4)\n",
      "数据类型： <U31\n"
     ]
    }
   ],
   "source": [
    "print('维度个数：',data_arr.ndim)\n",
    "print('维度大小：',data_arr.shape)\n",
    "print('数据类型：',data_arr.dtype)"
   ]
  },
  {
   "cell_type": "markdown",
   "metadata": {},
   "source": [
    "# 随机ndarray创建"
   ]
  },
  {
   "cell_type": "code",
   "execution_count": 4,
   "metadata": {},
   "outputs": [
    {
     "name": "stdout",
     "output_type": "stream",
     "text": [
      "[[0.43495803 0.39719415 0.50159887 0.750979  ]\n",
      " [0.10127314 0.33159516 0.25017716 0.28003185]\n",
      " [0.17410287 0.07982519 0.88358155 0.55508468]]\n",
      "<class 'numpy.ndarray'>\n"
     ]
    }
   ],
   "source": [
    "# np.random.rand()  随机样本位于[0, 1)中\n",
    "# 生成指定维度大小（3行4列）的随机多维浮点型数据（二维），rand固定区间0.0 ~ 1.0 \n",
    "arr = np.random.rand(3, 4) \n",
    "print(arr) \n",
    "print(type(arr))\n",
    "\n"
   ]
  },
  {
   "cell_type": "code",
   "execution_count": 5,
   "metadata": {},
   "outputs": [
    {
     "name": "stdout",
     "output_type": "stream",
     "text": [
      "[[-0.44046983  0.20408534  0.38640164 -0.34787997]\n",
      " [-0.9283245  -1.16705799  0.14702468  0.51226737]\n",
      " [-1.2164462   0.37064898 -0.72511366  1.19261385]]\n",
      "<class 'numpy.ndarray'>\n"
     ]
    }
   ],
   "source": [
    "# np.random.randn()  随机样本是从标准正态分布中返回\n",
    "arr = np.random.randn(3, 4) \n",
    "print(arr) \n",
    "print(type(arr))"
   ]
  },
  {
   "cell_type": "code",
   "execution_count": 6,
   "metadata": {},
   "outputs": [
    {
     "name": "stdout",
     "output_type": "stream",
     "text": [
      "[[ 4  4  0 -1]\n",
      " [ 1  1  4  1]\n",
      " [ 4  4 -1  2]]\n",
      "<class 'numpy.ndarray'>\n"
     ]
    }
   ],
   "source": [
    "# 随机整数数组创建\n",
    "arr = np.random.randint(-1, 5, size = (3, 4)) # 'size='可省略 \n",
    "print(arr) \n",
    "print(type(arr))\n"
   ]
  },
  {
   "cell_type": "code",
   "execution_count": 7,
   "metadata": {},
   "outputs": [
    {
     "name": "stdout",
     "output_type": "stream",
     "text": [
      "[[2.23453971 1.49279559 1.98832645 3.08697377]\n",
      " [4.6388383  2.46825    3.7645321  2.25152475]\n",
      " [2.47983389 2.87679411 4.81129769 2.22505006]]\n",
      "<class 'numpy.ndarray'>\n",
      "维度个数:  2\n",
      "维度大小:  (3, 4)\n",
      "数据类型:  float64\n"
     ]
    }
   ],
   "source": [
    "# 随机多维浮点数组创建\n",
    "arr = np.random.uniform(-1, 5, size = (3, 4)) # 'size='可省略 \n",
    "print(arr) \n",
    "print(type(arr)) \n",
    "print('维度个数: ', arr.ndim) \n",
    "print('维度大小: ', arr.shape) \n",
    "print('数据类型: ', arr.dtype)\n"
   ]
  },
  {
   "cell_type": "markdown",
   "metadata": {},
   "source": [
    "# list序列转换为 ndarray "
   ]
  },
  {
   "cell_type": "code",
   "execution_count": 8,
   "metadata": {},
   "outputs": [
    {
     "name": "stdout",
     "output_type": "stream",
     "text": [
      "[0 1 2 3 4 5 6 7 8 9]\n",
      "1\n",
      "(10,)\n",
      "<class 'numpy.ndarray'>\n"
     ]
    }
   ],
   "source": [
    "lis = range(10) \n",
    "arr = np.array(lis) \n",
    "print(arr) # ndarray数据 \n",
    "print(arr.ndim) # 维度个数 \n",
    "print(arr.shape) # 维度大小 \n",
    "print(type(arr))"
   ]
  },
  {
   "cell_type": "markdown",
   "metadata": {},
   "source": [
    "# 嵌套序列转换为ndarray "
   ]
  },
  {
   "cell_type": "code",
   "execution_count": 9,
   "metadata": {},
   "outputs": [
    {
     "name": "stdout",
     "output_type": "stream",
     "text": [
      "[[0 1 2 3 4 5 6 7 8 9]\n",
      " [0 1 2 3 4 5 6 7 8 9]]\n",
      "2\n",
      "(2, 10)\n"
     ]
    }
   ],
   "source": [
    "lis_lis = [range(10), range(10)] \n",
    "arr = np.array(lis_lis) \n",
    "print(arr) # ndarray数据 \n",
    "print(arr.ndim) # 维度个数 \n",
    "print(arr.shape) # 维度大小\n"
   ]
  },
  {
   "cell_type": "markdown",
   "metadata": {},
   "source": [
    "# ndarray转换为python list"
   ]
  },
  {
   "cell_type": "code",
   "execution_count": 11,
   "metadata": {},
   "outputs": [
    {
     "name": "stdout",
     "output_type": "stream",
     "text": [
      "[[0, 1, 2, 3, 4, 5, 6, 7, 8, 9], [0, 1, 2, 3, 4, 5, 6, 7, 8, 9]]\n",
      "<class 'list'>\n"
     ]
    }
   ],
   "source": [
    "ls = arr.tolist()\n",
    "print(ls)\n",
    "print(type(ls))"
   ]
  },
  {
   "cell_type": "markdown",
   "metadata": {},
   "source": [
    "# 全0数组创建"
   ]
  },
  {
   "cell_type": "code",
   "execution_count": 14,
   "metadata": {},
   "outputs": [
    {
     "name": "stdout",
     "output_type": "stream",
     "text": [
      "[[0. 0. 0. 0.]\n",
      " [0. 0. 0. 0.]\n",
      " [0. 0. 0. 0.]]\n"
     ]
    }
   ],
   "source": [
    "zeros_arr = np.zeros((3, 4))\n",
    "print(zeros_arr)"
   ]
  },
  {
   "cell_type": "markdown",
   "metadata": {},
   "source": [
    "# 调整数组的维数"
   ]
  },
  {
   "cell_type": "code",
   "execution_count": 14,
   "metadata": {},
   "outputs": [
    {
     "name": "stdout",
     "output_type": "stream",
     "text": [
      "[ 0  1  2  3  4  5  6  7  8  9 10 11 12 13 14]\n",
      "[[[[ 0]\n",
      "   [ 1]\n",
      "   [ 2]\n",
      "   [ 3]\n",
      "   [ 4]]\n",
      "\n",
      "  [[ 5]\n",
      "   [ 6]\n",
      "   [ 7]\n",
      "   [ 8]\n",
      "   [ 9]]\n",
      "\n",
      "  [[10]\n",
      "   [11]\n",
      "   [12]\n",
      "   [13]\n",
      "   [14]]]]\n"
     ]
    }
   ],
   "source": [
    "arr = np.arange(15) # 15个元素的 一维数组 \n",
    "print(arr) \n",
    "print(arr.reshape(1,3, 5,1)) # 3x5个元素的 二维数组 print(arr.reshape(1, 3, 5)) # 1x3x5个元素的 三维数组\n"
   ]
  },
  {
   "cell_type": "code",
   "execution_count": 16,
   "metadata": {},
   "outputs": [
    {
     "name": "stdout",
     "output_type": "stream",
     "text": [
      "[ 0  1  2  3  4  5  6  7  8  9 10 11 12 13 14 15]\n",
      "[[[[[ 0]\n",
      "    [ 1]]\n",
      "\n",
      "   [[ 2]\n",
      "    [ 3]]]\n",
      "\n",
      "\n",
      "  [[[ 4]\n",
      "    [ 5]]\n",
      "\n",
      "   [[ 6]\n",
      "    [ 7]]]]\n",
      "\n",
      "\n",
      "\n",
      " [[[[ 8]\n",
      "    [ 9]]\n",
      "\n",
      "   [[10]\n",
      "    [11]]]\n",
      "\n",
      "\n",
      "  [[[12]\n",
      "    [13]]\n",
      "\n",
      "   [[14]\n",
      "    [15]]]]]\n"
     ]
    }
   ],
   "source": [
    "arr = np.arange(16) # 15个元素的 一维数组 \n",
    "print(arr) \n",
    "print(arr.reshape(2,2, 2,2,1)) # 3x5个元素的 二维数组 print(arr.reshape(1, 3, 5)) # 1x3x5个元素的 三维数组"
   ]
  },
  {
   "cell_type": "markdown",
   "metadata": {},
   "source": [
    "# 指定数组的数据类型\n",
    "\n",
    "zeros_float_arr = np.zeros((3, 4), dtype=np.float64) \n",
    "\n",
    "print(zeros_float_arr) \n",
    "\n",
    "print(zeros_float_arr.dtype)\n"
   ]
  },
  {
   "cell_type": "markdown",
   "metadata": {},
   "source": [
    "# 转换数组的数据类型"
   ]
  },
  {
   "cell_type": "code",
   "execution_count": 19,
   "metadata": {},
   "outputs": [
    {
     "name": "stdout",
     "output_type": "stream",
     "text": [
      "[[0. 0. 0. 0.]\n",
      " [0. 0. 0. 0.]\n",
      " [0. 0. 0. 0.]]\n",
      "[[0 0 0 0]\n",
      " [0 0 0 0]\n",
      " [0 0 0 0]]\n",
      "int32\n"
     ]
    }
   ],
   "source": [
    "\n",
    "zeros_float_arr = np.zeros((3, 4), dtype=np.float64) \n",
    "print(zeros_float_arr)\n",
    "# astype转换数据类型，将已有的数组的数据类型转换为int32 \n",
    "zeros_int_arr = zeros_float_arr.astype(np.int32) \n",
    "print(zeros_int_arr) \n",
    "print(zeros_int_arr.dtype)\n"
   ]
  },
  {
   "cell_type": "markdown",
   "metadata": {},
   "source": [
    "# 索引与切片"
   ]
  },
  {
   "cell_type": "code",
   "execution_count": 20,
   "metadata": {},
   "outputs": [
    {
     "name": "stdout",
     "output_type": "stream",
     "text": [
      "[0 1 2 3 4 5 6 7 8 9]\n",
      "[2 3 4]\n",
      "3\n"
     ]
    }
   ],
   "source": [
    "# 一维数组 \n",
    "arr1 = np.arange(10) \n",
    "print(arr1) \n",
    "print(arr1[2:5])\n",
    "print(arr1[3])"
   ]
  },
  {
   "cell_type": "code",
   "execution_count": 21,
   "metadata": {},
   "outputs": [
    {
     "name": "stdout",
     "output_type": "stream",
     "text": [
      "[[ 0  1  2  3]\n",
      " [ 4  5  6  7]\n",
      " [ 8  9 10 11]]\n",
      "[4 5 6 7]\n",
      "[[2 3]\n",
      " [6 7]]\n",
      "[[ 1  2]\n",
      " [ 5  6]\n",
      " [ 9 10]]\n"
     ]
    }
   ],
   "source": [
    "# 多维数组的索引与切片\n",
    "arr2 = np.arange(12).reshape(3,4) \n",
    "print(arr2) \n",
    "print(arr2[1]) \n",
    "print(arr2[0:2, 2:]) \n",
    "print(arr2[:, 1:3])\n"
   ]
  },
  {
   "cell_type": "code",
   "execution_count": 22,
   "metadata": {},
   "outputs": [
    {
     "name": "stdout",
     "output_type": "stream",
     "text": [
      "[[False False False]\n",
      " [ True False  True]\n",
      " [False False  True]] bool\n",
      "[2005 2009 2010]\n"
     ]
    }
   ],
   "source": [
    "# 条件索引\n",
    "year_arr = np.array([[2000, 2001, 2000], [2005, 2002, 2009], [2001, 2003, 2010]]) \n",
    "is_year_after_2005 = year_arr >= 2005 \n",
    "print(is_year_after_2005, is_year_after_2005.dtype)\n",
    "filtered_arr = year_arr [is_year_after_2005] \n",
    "print(filtered_arr) \n"
   ]
  },
  {
   "cell_type": "code",
   "execution_count": 23,
   "metadata": {},
   "outputs": [
    {
     "name": "stdout",
     "output_type": "stream",
     "text": [
      "[[0.41866852 0.19692537 0.59667181]\n",
      " [0.50098958 0.49322213 0.54622739]\n",
      " [0.28847191 0.25263187 0.39082521]]\n",
      "[0.50098958 0.54622739 0.39082521]\n"
     ]
    }
   ],
   "source": [
    "data_arr = np.random.rand(3,3) \n",
    "print(data_arr)\n",
    "filtered_arr = data_arr [is_year_after_2005] \n",
    "print(filtered_arr) "
   ]
  },
  {
   "cell_type": "markdown",
   "metadata": {},
   "source": [
    "# 元素计算函数"
   ]
  },
  {
   "cell_type": "code",
   "execution_count": 24,
   "metadata": {},
   "outputs": [
    {
     "name": "stdout",
     "output_type": "stream",
     "text": [
      "[[ 0.8633992   2.80332481 -0.67044891]\n",
      " [-0.81988841  1.98224305 -0.41849915]]\n",
      "[[ 1.  3. -0.]\n",
      " [-0.  2. -0.]]\n",
      "[[ 0.  2. -1.]\n",
      " [-1.  1. -1.]]\n",
      "[[ 1.  3. -1.]\n",
      " [-1.  2. -0.]]\n",
      "[[False False False]\n",
      " [False False False]]\n",
      "[[0.74545819 7.85863    0.44950175]\n",
      " [0.672217   3.92928749 0.17514154]]\n",
      "[[1. 1. 1.]\n",
      " [1. 1. 1.]]\n",
      "[[ 1  1 -1]\n",
      " [-1  1 -1]]\n"
     ]
    }
   ],
   "source": [
    "arr = np.random.randn(2,3) \n",
    "print(arr) \n",
    "print(np.ceil(arr)) \n",
    "print(np.floor(arr)) \n",
    "print(np.rint(arr)) \n",
    "print(np.isnan(arr)) \n",
    "print(np.multiply(arr, arr)) \n",
    "print(np.divide(arr, arr)) \n",
    "print(np.where(arr > 0, 1, -1))\n"
   ]
  },
  {
   "cell_type": "markdown",
   "metadata": {},
   "source": [
    "# 元素统计函数"
   ]
  },
  {
   "cell_type": "code",
   "execution_count": 25,
   "metadata": {},
   "outputs": [
    {
     "name": "stdout",
     "output_type": "stream",
     "text": [
      "[[ 0  1  2  3]\n",
      " [ 4  5  6  7]\n",
      " [ 8  9 10 11]]\n",
      "66\n",
      "[12 15 18 21]\n",
      "[ 6 22 38]\n",
      "[ 0  1  3  6 10 15 21 28 36 45 55 66]\n",
      "[[1 5 5 2]\n",
      " [5 2 0 9]\n",
      " [3 0 8 3]]\n",
      "3.5833333333333335\n",
      "43\n",
      "9\n",
      "0\n",
      "7.7430555555555545\n",
      "2.7826346428439996\n",
      "[0 1 2 3 4 5 6 7 8 9]\n",
      "9\n",
      "0\n",
      "[ 0  1  3  6 10 15 21 28 36 45]\n",
      "[0 0 0 0 0 0 0 0 0 0]\n"
     ]
    }
   ],
   "source": [
    "arr = np.arange(12).reshape(3,4) \n",
    "print(arr) \n",
    "print(np.sum(arr)) # 所有元素的和 \n",
    "print(np.sum(arr, axis=0)) # 数组的按列统计和 \n",
    "print(np.sum(arr, axis=1)) # 数组的按行统计和\n",
    "print(np.cumsum(arr)) # 返回一个一维数组，每个元素都是之前所有元素的 累加和 \n",
    "arr = np.random.randint(0,10,(3,4))\n",
    "print(arr)\n",
    "#所有元素的平均值与和\n",
    "print(np.mean(arr))\n",
    "print(np.sum(arr))\n",
    "#求数组的最大值\n",
    "print(np.max(arr))\n",
    "print(np.min(arr))\n",
    "#方差和标准差：衡量数据和期望值之间的偏离值\n",
    "#求方差：所有元素都和平均数的差的平方的平均数\n",
    "print(np.var(arr))\n",
    "#求标准差:方差的平方根\n",
    "print(np.std(arr))\n",
    "#求最大值和最小值的索引下标\n",
    "#如果是多维数组，将多维数组合并成一维数组，再找出最大值索引下标\n",
    "arr = np.arange(10)\n",
    "print(arr)\n",
    "print(np.argmax(arr))\n",
    "print(np.argmin(arr))\n",
    "#返回一维数组，数组每个元素都是之前每个元素的累加和\n",
    "print(np.cumsum(arr))\n",
    "#返回一个一维数组，数组的每一个元素都是之前所有元素的累加积\n",
    "print(np.cumprod(arr))\n"
   ]
  },
  {
   "cell_type": "markdown",
   "metadata": {},
   "source": [
    "# 元素判断函数"
   ]
  },
  {
   "cell_type": "code",
   "execution_count": 29,
   "metadata": {},
   "outputs": [
    {
     "name": "stdout",
     "output_type": "stream",
     "text": [
      "[[ 0.43940835  0.51731215 -0.60901517]\n",
      " [ 1.06572894  0.91300374  0.91430007]]\n",
      "True\n",
      "False\n"
     ]
    }
   ],
   "source": [
    "arr = np.random.randn(2,3) \n",
    "print(arr) \n",
    "print(np.any(arr > 0)) \n",
    "print(np.all(arr > 0))\n"
   ]
  },
  {
   "cell_type": "markdown",
   "metadata": {},
   "source": [
    "# 元素去重排序函数"
   ]
  },
  {
   "cell_type": "code",
   "execution_count": 26,
   "metadata": {},
   "outputs": [
    {
     "name": "stdout",
     "output_type": "stream",
     "text": [
      "[[1 2 1]\n",
      " [2 3 4]]\n",
      "[1 2 3 4]\n"
     ]
    }
   ],
   "source": [
    "arr = np.array([[1, 2, 1], [2, 3, 4]]) \n",
    "print(arr) \n",
    "print(np.unique(arr))\n"
   ]
  },
  {
   "cell_type": "code",
   "execution_count": null,
   "metadata": {},
   "outputs": [],
   "source": []
  },
  {
   "cell_type": "code",
   "execution_count": null,
   "metadata": {},
   "outputs": [],
   "source": []
  }
 ],
 "metadata": {
  "kernelspec": {
   "display_name": "Python 3",
   "language": "python",
   "name": "python3"
  },
  "language_info": {
   "codemirror_mode": {
    "name": "ipython",
    "version": 3
   },
   "file_extension": ".py",
   "mimetype": "text/x-python",
   "name": "python",
   "nbconvert_exporter": "python",
   "pygments_lexer": "ipython3",
   "version": "3.6.2"
  }
 },
 "nbformat": 4,
 "nbformat_minor": 2
}
